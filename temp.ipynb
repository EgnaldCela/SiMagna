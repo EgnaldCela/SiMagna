{
 "cells": [
  {
   "cell_type": "code",
   "execution_count": null,
   "id": "b7ed4772",
   "metadata": {},
   "outputs": [],
   "source": [
    "import os\n",
    "import shutil\n",
    "import numpy as np\n",
    "import reorder_data"
   ]
  },
  {
   "cell_type": "code",
   "execution_count": null,
   "id": "eeb1ccc6",
   "metadata": {},
   "outputs": [],
   "source": [
    "# initial dataset, needed to change structure\n",
    "\n",
    "sourcedir = \"data/fruit for yolo/test/test\"\n",
    "imagesdir = \"dataset/images/test\"\n",
    "labelsdir = \"dataset/labels/test\"\n",
    "\n",
    "def move_initial_dataset(): \n",
    "    for element in os.listdir(sourcedir):\n",
    "        # print(element, element[-3]); exit()\n",
    "        if element[-3:] == \"txt\":\n",
    "            shutil.move(f\"{sourcedir}/{element}\", f\"{labelsdir}/{element}\")\n",
    "        elif element[-3:] == \"jpg\":\n",
    "            shutil.move(f\"{sourcedir}/{element}\", f\"{imagesdir}/{element}\")"
   ]
  },
  {
   "cell_type": "code",
   "execution_count": null,
   "id": "9015c877",
   "metadata": {},
   "outputs": [],
   "source": [
    "# rest of the datasets, already structured, need to be merged\n",
    "\n",
    "relevant_datasets = {\n",
    "    # 5 classes, so many pictures for not much actually\n",
    "    \"food-detection-5\": ['apple', 'banana', 'cabbage', 'capsicum', 'tomato'],\n",
    "    # 94 classes\n",
    "    \"Food-Item-Detection-1\": ['Apple', 'Banana', 'Beans', 'Capsicum', 'Carrot', 'Cucumber', 'Curli-Flower', 'Orange', 'Tomato', 'Tomatos', 'apple', 'asparagus', 'avocado', 'banana', 'beef', 'bell_pepper', 'bento', 'blueberries', 'bottle', 'bread', 'broccoli', 'butter', 'can', 'carrot', 'cauliflower', 'cheese', 'chicken', 'chicken_breast', 'chocolate', 'coffee', 'corn', 'cucumber', 'egg', 'eggs', 'energy_drink', 'fish', 'flour', 'garlic', 'goat_cheese', 'grapes', 'grated_cheese', 'green_beans', 'ground_beef', 'guacamole', 'ham', 'heavy_cream', 'humus', 'juice', 'ketchup', 'kothmari', 'leek', 'lemon', 'lettuce', 'lime', 'mango', 'marmelade', 'mayonaise', 'milk', 'mushrooms', 'mustard', 'nuts', 'onion', 'orange', 'pak_choi', 'parsley', 'peach', 'pear', 'pineapple', 'plasticsaveholder', 'pot', 'potato', 'potatoes', 'pudding', 'red_cabbage', 'red_grapes', 'rice_ball', 'salad', 'sandwich', 'sausage', 'shrimp', 'smoothie', 'spinach', 'spring_onion', 'strawberries', 'sugar', 'sweet_potato', 'tea_a', 'tea_i', 'tomato', 'tomato_sauce', 'tortillas', 'turkey', 'watermelon', 'yogurt'],\n",
    "    # 138 classes\n",
    "    \"Grocery1-1\": ['-', 'Apple', 'Artichoke', 'Asparagus', 'Avocado', 'Banana', 'Beans', 'Beetroot', 'Blackberries', 'Blueberries', 'Book', 'Broccoli', 'Brussel Sprouts', 'Butter', 'Cabbage', 'Cantaloupe', 'Carrots', 'Cauliflower', 'Cerealbox', 'Cheese', 'Clementine', 'Coffee', 'Corn', 'Cucumber', 'Detergent', 'Drinks', 'Egg', 'Eggplant', 'Eggs', 'Fish', 'Galia', 'Grapes', 'Honeydew', 'Juice', 'Lemon', 'Lettuce', 'Meat', 'Milk', 'Mushroom', 'Mushrooms', 'Nectarine', 'Onion', 'Orange', 'Oranges', 'Peas', 'Pineapple', 'Plum', 'Pomegranate', 'Potato', 'Raspberries', 'Salad', 'Sauce', 'Shallot', 'Spinach', 'Squash', 'Strawberries', 'Strawberry', 'Sweetcorn', 'Tofu', 'Tomato', 'Tomatoes', 'Watermelon', 'Yogurt', 'Zucchini', 'apple', 'apples', 'asparagus', 'aubergine', 'bacon', 'banana', 'bananas', 'bazlama', 'beef', 'blueberries', 'bread', 'broccoli', 'butter', 'carrot', 'carrots', 'cheese', 'chicken', 'chicken_breast', 'chocolate', 'chocolate chips', 'corn', 'courgettes', 'cream', 'cream cheese', 'dates', 'eggs', 'flour', 'ginger', 'goat_cheese', 'green beans', 'green bell pepper', 'green chilies', 'green_beans', 'ground_beef', 'ham', 'heavy_cream', 'juice', 'lemon', 'lemons', 'lettuce', 'lime', 'mango', 'meat', 'milk', 'mineral water', 'mushroom', 'mushrooms', 'olive', 'olives', 'onion', 'orange', 'parsley', 'peach', 'peppers', 'potato', 'potatoes', 'red bell pepper', 'red grapes', 'red onion', 'salami', 'sauce', 'sausage', 'shrimp', 'spinach', 'spring onion', 'strawberries', 'strawberry', 'sugar', 'sweet_potato', 'tomato', 'tomato paste', 'tomatoes', 'yellow bell pepper', 'yoghurt'],\n",
    "    # 16 classes\n",
    "    \"Pathpal-Grocery-Detector-3-2\": ['Apple', 'Banana', 'Book', 'Carrots', 'Cerealbox', 'Detergent', 'Drinks', 'Egg', 'Lemon', 'Meat', 'Milk', 'Orange', 'Strawberries', 'Tomato', 'Watermelon', 'bread'],\n",
    "    # 10 classes\n",
    "    \"Pathpal-Grocery-Detector-3-10\": ['Apple', 'Banana', 'Book', 'Carrots', 'Detergent', 'Drinks', 'Lemon', 'Meat', 'Milk', 'Orange'],\n",
    "    # 14 classes (initial one)\n",
    "    \"initial-fruit-vegetables\": ['banana_wb', 'banana', 'blackberry', 'raspberry', 'lemon_wb', 'lemon', 'grapes_wb', 'grapes', 'tomato_wb', 'tomato', 'apple_wb', 'apple', 'chilli_wb', 'chilli'] # i removed the wobs\n",
    "}\n",
    "\n",
    "def get_classes(lists: list[str]) -> list[str]:\n",
    "    result = []\n",
    "    for lst in lists:\n",
    "        for word in lst:\n",
    "            word = word.capitalize()\n",
    "            if word not in result:\n",
    "                result.append(word)\n",
    "    return result\n",
    "\n",
    "tot_classes = get_classes(relevant_datasets.values())\n",
    "print(tot_classes)\n",
    "print(len(tot_classes))\n",
    "# ['Apple', 'Banana', 'Cabbage', 'Capsicum', 'Tomato', 'Beans', 'Carrot', 'Cucumber', 'Curli-flower', 'Orange', 'Tomatos', 'Asparagus', 'Avocado', 'Beef',\n",
    "# 'Bell_pepper', 'Bento', 'Blueberries', 'Bottle', 'Bread', 'Broccoli', 'Butter', 'Can', 'Cauliflower', 'Cheese', 'Chicken', 'Chicken_breast', 'Chocolate',\n",
    "# 'Coffee', 'Corn', 'Egg', 'Eggs', 'Energy_drink', 'Fish', 'Flour', 'Garlic', 'Goat_cheese', 'Grapes', 'Grated_cheese', 'Green_beans', 'Ground_beef', 'Guacamole',\n",
    "# 'Ham', 'Heavy_cream', 'Humus', 'Juice', 'Ketchup', 'Kothmari', 'Leek', 'Lemon', 'Lettuce', 'Lime', 'Mango', 'Marmelade', 'Mayonaise', 'Milk', 'Mushrooms',\n",
    "# 'Mustard', 'Nuts', 'Onion', 'Pak_choi', 'Parsley', 'Peach', 'Pear', 'Pineapple', 'Plasticsaveholder', 'Pot', 'Potato', 'Potatoes', 'Pudding', 'Red_cabbage',\n",
    "# 'Red_grapes', 'Rice_ball', 'Salad', 'Sandwich', 'Sausage', 'Shrimp', 'Smoothie', 'Spinach', 'Spring_onion', 'Strawberries', 'Sugar', 'Sweet_potato', 'Tea_a',\n",
    "# 'Tea_i', 'Tomato_sauce', 'Tortillas', 'Turkey', 'Watermelon', 'Yogurt', '-', 'Artichoke', 'Beetroot', 'Blackberries', 'Book', 'Brussel sprouts', 'Cantaloupe',\n",
    "# 'Carrots', 'Cerealbox', 'Clementine', 'Detergent', 'Drinks', 'Eggplant', 'Galia', 'Honeydew', 'Meat', 'Mushroom', 'Nectarine', 'Oranges', 'Peas', 'Plum',\n",
    "# 'Pomegranate', 'Raspberries', 'Sauce', 'Shallot', 'Squash', 'Strawberry', 'Sweetcorn', 'Tofu', 'Tomatoes', 'Zucchini', 'Apples', 'Aubergine', 'Bacon', 'Bananas',\n",
    "# 'Bazlama', 'Chocolate chips', 'Courgettes', 'Cream', 'Cream cheese', 'Dates', 'Ginger', 'Green beans', 'Green bell pepper', 'Green chilies', 'Lemons', 'Mineral water',\n",
    "# 'Olive', 'Olives', 'Peppers', 'Red bell pepper', 'Red grapes', 'Red onion', 'Salami', 'Spring onion', 'Tomato paste', 'Yellow bell pepper', 'Yoghurt', 'Banana_wb', 'Blackberry',\n",
    "# 'Raspberry', 'Lemon_wb', 'Grapes_wb', 'Tomato_wb', 'Apple_wb', 'Chilli_wb', 'Chilli']\n"
   ]
  },
  {
   "cell_type": "code",
   "execution_count": null,
   "id": "464c2dbb",
   "metadata": {},
   "outputs": [],
   "source": [
    "# add tot_classes to data.yaml\n",
    "yaml = open(\"merged_dataset/data.yaml\", \"a\", encoding=\"utf8\")\n",
    "# print(tot_classes, file = yaml)\n",
    "yaml.close()"
   ]
  },
  {
   "cell_type": "code",
   "execution_count": null,
   "id": "186d63f9",
   "metadata": {},
   "outputs": [],
   "source": [
    "# operations on the dataset: class balancing, decluttering\n",
    "with open(\"labels_balancing.txt\", \"r\", encoding=\"utf8\") as labelsinfo:\n",
    "    labelsinfo = labelsinfo.readlines()\n",
    "for index, line in enumerate(labelsinfo):\n",
    "    labelsinfo[index] = line.strip().split()[:3]\n",
    "\n",
    "frequencies = {label:[n_images, tot_freq] for label, n_images, tot_freq in labelsinfo[1:]}\n"
   ]
  },
  {
   "cell_type": "code",
   "execution_count": 27,
   "id": "10ae2aac",
   "metadata": {},
   "outputs": [
    {
     "data": {
      "text/plain": [
       "['Grocery1-1', 'Pathpal-Grocery-Detector-3-2', 'Pathpal-Grocery-Detector-3-10']"
      ]
     },
     "execution_count": 27,
     "metadata": {},
     "output_type": "execute_result"
    }
   ],
   "source": [
    "# useful functions\n",
    "len(set(tot_classes)) - len(frequencies.keys())\n",
    "missing = set(tot_classes) - frequencies.keys()\n",
    "\n",
    "def in_which_dataset(label: str):\n",
    "    result = list()\n",
    "    for dataset in relevant_datasets.keys():\n",
    "        if label.casefold() in [word.casefold() for word in relevant_datasets[dataset]]:\n",
    "            result.append(dataset)\n",
    "    return result\n",
    "\n",
    "def get_correspective_path(filepath: str) -> str:\n",
    "    \"get labels path from image path and viceversa\"\n",
    "    folder, extension = \"images\", \"jpg\"\n",
    "    if filepath[-3:] == \"jpg\":\n",
    "        folder, extension = \"labels\", \"txt\"\n",
    "    temp_path = filepath.split(\"/\")\n",
    "    temp_path[-2] = folder\n",
    "    temp_path[-1] = temp_path[-1][:-3] + extension\n",
    "    return \"/\".join(temp_path)\n",
    "\n",
    "{label : in_which_dataset(label) for label in missing}\n",
    "in_which_dataset(\"book\")"
   ]
  },
  {
   "cell_type": "code",
   "execution_count": null,
   "id": "9bfdc806",
   "metadata": {},
   "outputs": [],
   "source": [
    "# get images that contain a label\n",
    "label = \"bento\"\n",
    "\n",
    "def contain(label: str) -> list[str]:\n",
    "    folder = \"merged_dataset\"\n",
    "    l_index = str(tot_classes.index(label.capitalize()))\n",
    "    result = []\n",
    "    for path in {f\"{folder}/train/labels\", f\"{folder}/valid/labels\"}:\n",
    "        for filename in os.listdir(path):\n",
    "            filepath = f\"{path}/{filename}\"\n",
    "            with open(filepath, \"r\", encoding=\"utf8\") as labelfile:\n",
    "                lines = labelfile.readlines()\n",
    "            for line in lines:\n",
    "                if line.startswith(l_index):\n",
    "                    result.append(filepath)\n",
    "    return result\n",
    "\n",
    "images = []\n",
    "for labelfilepath in contain(label):\n",
    "    imagepath = get_correspective_path(labelfilepath)\n",
    "    reorder_data.visualize_bboxes(imagepath)\n",
    "    images.append(imagepath)\n",
    "\n",
    "with open(\"bentofiles.txt\", \"w\", encoding=\"utf8\") as bookfile:\n",
    "    for image in images:\n",
    "        print(image, file=bookfile)\n",
    "print(len(images))\n",
    "\n",
    "# results:\n",
    "# \"-\" seems to indicate 8 images of limes\n",
    "# for some reason there are many images containing \"book\", printed in booksfile.txt"
   ]
  }
 ],
 "metadata": {
  "kernelspec": {
   "display_name": "base",
   "language": "python",
   "name": "python3"
  },
  "language_info": {
   "codemirror_mode": {
    "name": "ipython",
    "version": 3
   },
   "file_extension": ".py",
   "mimetype": "text/x-python",
   "name": "python",
   "nbconvert_exporter": "python",
   "pygments_lexer": "ipython3",
   "version": "3.12.9"
  }
 },
 "nbformat": 4,
 "nbformat_minor": 5
}
